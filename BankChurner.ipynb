{
  "nbformat": 4,
  "nbformat_minor": 0,
  "metadata": {
    "colab": {
      "name": "BankChurner.ipynb",
      "provenance": [],
      "collapsed_sections": []
    },
    "kernelspec": {
      "name": "python3",
      "display_name": "Python 3"
    }
  },
  "cells": [
    {
      "cell_type": "markdown",
      "metadata": {
        "id": "sABqw5NBqfJx"
      },
      "source": [
        "Import requirements, and suppress warnings from Sklearn"
      ]
    },
    {
      "cell_type": "code",
      "metadata": {
        "colab": {
          "base_uri": "https://localhost:8080/",
          "height": 358
        },
        "id": "FO2gqNFqsl3U",
        "outputId": "eca0a4d1-77d7-461c-b78b-13ef78351d3f"
      },
      "source": [
        "pip install lightgbm --upgrade\n"
      ],
      "execution_count": 22,
      "outputs": [
        {
          "output_type": "stream",
          "name": "stdout",
          "text": [
            "Requirement already satisfied: lightgbm in /usr/local/lib/python3.7/dist-packages (2.2.3)\n",
            "Collecting lightgbm\n",
            "  Downloading lightgbm-3.3.0-py3-none-manylinux1_x86_64.whl (2.0 MB)\n",
            "\u001b[K     |████████████████████████████████| 2.0 MB 7.9 MB/s \n",
            "\u001b[?25hRequirement already satisfied: numpy in /usr/local/lib/python3.7/dist-packages (from lightgbm) (1.19.5)\n",
            "Requirement already satisfied: wheel in /usr/local/lib/python3.7/dist-packages (from lightgbm) (0.37.0)\n",
            "Requirement already satisfied: scikit-learn!=0.22.0 in /usr/local/lib/python3.7/dist-packages (from lightgbm) (0.22.2.post1)\n",
            "Requirement already satisfied: scipy in /usr/local/lib/python3.7/dist-packages (from lightgbm) (1.4.1)\n",
            "Requirement already satisfied: joblib>=0.11 in /usr/local/lib/python3.7/dist-packages (from scikit-learn!=0.22.0->lightgbm) (1.0.1)\n",
            "Installing collected packages: lightgbm\n",
            "  Attempting uninstall: lightgbm\n",
            "    Found existing installation: lightgbm 2.2.3\n",
            "    Uninstalling lightgbm-2.2.3:\n",
            "      Successfully uninstalled lightgbm-2.2.3\n",
            "Successfully installed lightgbm-3.3.0\n"
          ]
        },
        {
          "output_type": "display_data",
          "data": {
            "application/vnd.colab-display-data+json": {
              "pip_warning": {
                "packages": [
                  "lightgbm"
                ]
              }
            }
          },
          "metadata": {}
        }
      ]
    },
    {
      "cell_type": "code",
      "metadata": {
        "id": "uEQ4NWjugZCM"
      },
      "source": [
        "import warnings\n",
        "warnings.filterwarnings(\"ignore\", category=FutureWarning)\n",
        "\n",
        "import pandas as pd\n",
        "import numpy as np\n",
        "import seaborn as sns\n",
        "import matplotlib.pyplot as plt\n",
        "from scipy import stats\n",
        "from sklearn.preprocessing import LabelEncoder, OneHotEncoder, StandardScaler\n",
        "from sklearn.base import BaseEstimator, TransformerMixin\n",
        "from sklearn.pipeline import Pipeline, FeatureUnion\n",
        "from sklearn.metrics import precision_score, recall_score, f1_score, plot_confusion_matrix, accuracy_score\n",
        "from sklearn.model_selection import train_test_split, GridSearchCV, RandomizedSearchCV, StratifiedKFold\n",
        "from sklearn.compose import ColumnTransformer\n",
        "from sklearn.externals import joblib\n",
        "from imblearn.over_sampling import BorderlineSMOTE\n",
        "from imblearn.under_sampling import RandomUnderSampler\n",
        "from imblearn.pipeline import Pipeline as pipe_imb\n",
        "from xgboost import XGBClassifier\n",
        "from lightgbm import LGBMClassifier"
      ],
      "execution_count": 1,
      "outputs": []
    },
    {
      "cell_type": "code",
      "metadata": {
        "colab": {
          "base_uri": "https://localhost:8080/"
        },
        "id": "Uf_rTHeKnzD-",
        "outputId": "860339b2-31c3-4b06-a9e6-20cde457fd0c"
      },
      "source": [
        "from google.colab import drive\n",
        "drive.mount('/content/drive')"
      ],
      "execution_count": 2,
      "outputs": [
        {
          "output_type": "stream",
          "name": "stdout",
          "text": [
            "Drive already mounted at /content/drive; to attempt to forcibly remount, call drive.mount(\"/content/drive\", force_remount=True).\n"
          ]
        }
      ]
    },
    {
      "cell_type": "markdown",
      "metadata": {
        "id": "IUK6gLQrqmeQ"
      },
      "source": [
        "Read data and inspect final 5 rows of DataFrame"
      ]
    },
    {
      "cell_type": "code",
      "metadata": {
        "colab": {
          "base_uri": "https://localhost:8080/",
          "height": 224
        },
        "id": "E-Bv_gKPgw0y",
        "outputId": "f472e7fb-29c5-4623-8c76-39f85892be7a"
      },
      "source": [
        "df = pd.read_csv('/content/drive/MyDrive/Colab Notebooks/Kaggle-credit-card-customers/BankChurners.csv')\n",
        "df.tail()"
      ],
      "execution_count": 24,
      "outputs": [
        {
          "output_type": "execute_result",
          "data": {
            "text/html": [
              "<div>\n",
              "<style scoped>\n",
              "    .dataframe tbody tr th:only-of-type {\n",
              "        vertical-align: middle;\n",
              "    }\n",
              "\n",
              "    .dataframe tbody tr th {\n",
              "        vertical-align: top;\n",
              "    }\n",
              "\n",
              "    .dataframe thead th {\n",
              "        text-align: right;\n",
              "    }\n",
              "</style>\n",
              "<table border=\"1\" class=\"dataframe\">\n",
              "  <thead>\n",
              "    <tr style=\"text-align: right;\">\n",
              "      <th></th>\n",
              "      <th>CLIENTNUM</th>\n",
              "      <th>Attrition_Flag</th>\n",
              "      <th>Customer_Age</th>\n",
              "      <th>Gender</th>\n",
              "      <th>Dependent_count</th>\n",
              "      <th>Education_Level</th>\n",
              "      <th>Marital_Status</th>\n",
              "      <th>Income_Category</th>\n",
              "      <th>Card_Category</th>\n",
              "      <th>Months_on_book</th>\n",
              "      <th>Total_Relationship_Count</th>\n",
              "      <th>Months_Inactive_12_mon</th>\n",
              "      <th>Contacts_Count_12_mon</th>\n",
              "      <th>Credit_Limit</th>\n",
              "      <th>Total_Revolving_Bal</th>\n",
              "      <th>Avg_Open_To_Buy</th>\n",
              "      <th>Total_Amt_Chng_Q4_Q1</th>\n",
              "      <th>Total_Trans_Amt</th>\n",
              "      <th>Total_Trans_Ct</th>\n",
              "      <th>Total_Ct_Chng_Q4_Q1</th>\n",
              "      <th>Avg_Utilization_Ratio</th>\n",
              "      <th>Naive_Bayes_Classifier_Attrition_Flag_Card_Category_Contacts_Count_12_mon_Dependent_count_Education_Level_Months_Inactive_12_mon_1</th>\n",
              "      <th>Naive_Bayes_Classifier_Attrition_Flag_Card_Category_Contacts_Count_12_mon_Dependent_count_Education_Level_Months_Inactive_12_mon_2</th>\n",
              "    </tr>\n",
              "  </thead>\n",
              "  <tbody>\n",
              "    <tr>\n",
              "      <th>10122</th>\n",
              "      <td>772366833</td>\n",
              "      <td>Existing Customer</td>\n",
              "      <td>50</td>\n",
              "      <td>M</td>\n",
              "      <td>2</td>\n",
              "      <td>Graduate</td>\n",
              "      <td>Single</td>\n",
              "      <td>$40K - $60K</td>\n",
              "      <td>Blue</td>\n",
              "      <td>40</td>\n",
              "      <td>3</td>\n",
              "      <td>2</td>\n",
              "      <td>3</td>\n",
              "      <td>4003.0</td>\n",
              "      <td>1851</td>\n",
              "      <td>2152.0</td>\n",
              "      <td>0.703</td>\n",
              "      <td>15476</td>\n",
              "      <td>117</td>\n",
              "      <td>0.857</td>\n",
              "      <td>0.462</td>\n",
              "      <td>0.000191</td>\n",
              "      <td>0.999810</td>\n",
              "    </tr>\n",
              "    <tr>\n",
              "      <th>10123</th>\n",
              "      <td>710638233</td>\n",
              "      <td>Attrited Customer</td>\n",
              "      <td>41</td>\n",
              "      <td>M</td>\n",
              "      <td>2</td>\n",
              "      <td>Unknown</td>\n",
              "      <td>Divorced</td>\n",
              "      <td>$40K - $60K</td>\n",
              "      <td>Blue</td>\n",
              "      <td>25</td>\n",
              "      <td>4</td>\n",
              "      <td>2</td>\n",
              "      <td>3</td>\n",
              "      <td>4277.0</td>\n",
              "      <td>2186</td>\n",
              "      <td>2091.0</td>\n",
              "      <td>0.804</td>\n",
              "      <td>8764</td>\n",
              "      <td>69</td>\n",
              "      <td>0.683</td>\n",
              "      <td>0.511</td>\n",
              "      <td>0.995270</td>\n",
              "      <td>0.004729</td>\n",
              "    </tr>\n",
              "    <tr>\n",
              "      <th>10124</th>\n",
              "      <td>716506083</td>\n",
              "      <td>Attrited Customer</td>\n",
              "      <td>44</td>\n",
              "      <td>F</td>\n",
              "      <td>1</td>\n",
              "      <td>High School</td>\n",
              "      <td>Married</td>\n",
              "      <td>Less than $40K</td>\n",
              "      <td>Blue</td>\n",
              "      <td>36</td>\n",
              "      <td>5</td>\n",
              "      <td>3</td>\n",
              "      <td>4</td>\n",
              "      <td>5409.0</td>\n",
              "      <td>0</td>\n",
              "      <td>5409.0</td>\n",
              "      <td>0.819</td>\n",
              "      <td>10291</td>\n",
              "      <td>60</td>\n",
              "      <td>0.818</td>\n",
              "      <td>0.000</td>\n",
              "      <td>0.997880</td>\n",
              "      <td>0.002118</td>\n",
              "    </tr>\n",
              "    <tr>\n",
              "      <th>10125</th>\n",
              "      <td>717406983</td>\n",
              "      <td>Attrited Customer</td>\n",
              "      <td>30</td>\n",
              "      <td>M</td>\n",
              "      <td>2</td>\n",
              "      <td>Graduate</td>\n",
              "      <td>Unknown</td>\n",
              "      <td>$40K - $60K</td>\n",
              "      <td>Blue</td>\n",
              "      <td>36</td>\n",
              "      <td>4</td>\n",
              "      <td>3</td>\n",
              "      <td>3</td>\n",
              "      <td>5281.0</td>\n",
              "      <td>0</td>\n",
              "      <td>5281.0</td>\n",
              "      <td>0.535</td>\n",
              "      <td>8395</td>\n",
              "      <td>62</td>\n",
              "      <td>0.722</td>\n",
              "      <td>0.000</td>\n",
              "      <td>0.996710</td>\n",
              "      <td>0.003294</td>\n",
              "    </tr>\n",
              "    <tr>\n",
              "      <th>10126</th>\n",
              "      <td>714337233</td>\n",
              "      <td>Attrited Customer</td>\n",
              "      <td>43</td>\n",
              "      <td>F</td>\n",
              "      <td>2</td>\n",
              "      <td>Graduate</td>\n",
              "      <td>Married</td>\n",
              "      <td>Less than $40K</td>\n",
              "      <td>Silver</td>\n",
              "      <td>25</td>\n",
              "      <td>6</td>\n",
              "      <td>2</td>\n",
              "      <td>4</td>\n",
              "      <td>10388.0</td>\n",
              "      <td>1961</td>\n",
              "      <td>8427.0</td>\n",
              "      <td>0.703</td>\n",
              "      <td>10294</td>\n",
              "      <td>61</td>\n",
              "      <td>0.649</td>\n",
              "      <td>0.189</td>\n",
              "      <td>0.996620</td>\n",
              "      <td>0.003377</td>\n",
              "    </tr>\n",
              "  </tbody>\n",
              "</table>\n",
              "</div>"
            ],
            "text/plain": [
              "       CLIENTNUM  ... Naive_Bayes_Classifier_Attrition_Flag_Card_Category_Contacts_Count_12_mon_Dependent_count_Education_Level_Months_Inactive_12_mon_2\n",
              "10122  772366833  ...                                           0.999810                                                                                \n",
              "10123  710638233  ...                                           0.004729                                                                                \n",
              "10124  716506083  ...                                           0.002118                                                                                \n",
              "10125  717406983  ...                                           0.003294                                                                                \n",
              "10126  714337233  ...                                           0.003377                                                                                \n",
              "\n",
              "[5 rows x 23 columns]"
            ]
          },
          "metadata": {},
          "execution_count": 24
        }
      ]
    },
    {
      "cell_type": "markdown",
      "metadata": {
        "id": "2DjN1ElNuDkl"
      },
      "source": [
        "There are 2 columns which need to be deleted - the last 2"
      ]
    },
    {
      "cell_type": "code",
      "metadata": {
        "id": "rd3Gaj91uGBu"
      },
      "source": [
        "df = df.drop(\n",
        "    ['Naive_Bayes_Classifier_Attrition_Flag_Card_Category_Contacts_Count_12_mon_Dependent_count_Education_Level_Months_Inactive_12_mon_1', \n",
        "     'Naive_Bayes_Classifier_Attrition_Flag_Card_Category_Contacts_Count_12_mon_Dependent_count_Education_Level_Months_Inactive_12_mon_2'\n",
        "     ],\n",
        "      axis=1)"
      ],
      "execution_count": 25,
      "outputs": []
    },
    {
      "cell_type": "code",
      "metadata": {
        "colab": {
          "base_uri": "https://localhost:8080/"
        },
        "id": "-XWzVa9XuSTH",
        "outputId": "791516ba-2ea0-4ad3-f884-68dd7339b99b"
      },
      "source": [
        "df.columns"
      ],
      "execution_count": 26,
      "outputs": [
        {
          "output_type": "execute_result",
          "data": {
            "text/plain": [
              "Index(['CLIENTNUM', 'Attrition_Flag', 'Customer_Age', 'Gender',\n",
              "       'Dependent_count', 'Education_Level', 'Marital_Status',\n",
              "       'Income_Category', 'Card_Category', 'Months_on_book',\n",
              "       'Total_Relationship_Count', 'Months_Inactive_12_mon',\n",
              "       'Contacts_Count_12_mon', 'Credit_Limit', 'Total_Revolving_Bal',\n",
              "       'Avg_Open_To_Buy', 'Total_Amt_Chng_Q4_Q1', 'Total_Trans_Amt',\n",
              "       'Total_Trans_Ct', 'Total_Ct_Chng_Q4_Q1', 'Avg_Utilization_Ratio'],\n",
              "      dtype='object')"
            ]
          },
          "metadata": {},
          "execution_count": 26
        }
      ]
    },
    {
      "cell_type": "markdown",
      "metadata": {
        "id": "G2HhGAcPqtg4"
      },
      "source": [
        "Inspecting the target label counts we can see this will be an imblanced classification problem."
      ]
    },
    {
      "cell_type": "code",
      "metadata": {
        "colab": {
          "base_uri": "https://localhost:8080/"
        },
        "id": "CFbsLXP5Gje_",
        "outputId": "58736890-2112-43d5-9a94-4b341f170b32"
      },
      "source": [
        "df['Attrition_Flag'].value_counts()"
      ],
      "execution_count": 27,
      "outputs": [
        {
          "output_type": "execute_result",
          "data": {
            "text/plain": [
              "Existing Customer    8500\n",
              "Attrited Customer    1627\n",
              "Name: Attrition_Flag, dtype: int64"
            ]
          },
          "metadata": {},
          "execution_count": 27
        }
      ]
    },
    {
      "cell_type": "markdown",
      "metadata": {
        "id": "P9NBDulMq828"
      },
      "source": [
        "Encode the target label (*Attrition_Flag*) in a seperate array and drop this and *CLIENTNUM* from the feature DataFrame."
      ]
    },
    {
      "cell_type": "code",
      "metadata": {
        "id": "lETUZFiGg9aj"
      },
      "source": [
        "le = LabelEncoder()\n",
        "le.classes_ = np.array(['Existing Customer', 'Attrited Customer']) # Override label order so Churn = 1\n",
        "y = le.transform(df['Attrition_Flag'])\n",
        "df = df.drop(['Attrition_Flag', 'CLIENTNUM'], axis=1)"
      ],
      "execution_count": 28,
      "outputs": []
    },
    {
      "cell_type": "markdown",
      "metadata": {
        "id": "pX3DVHP_rwON"
      },
      "source": [
        "Group features into the following:\n",
        "\n",
        "\n",
        "*   Categorical features: Most of these will be one-hot encoded, however if there are only two distinct variables we will binary encode instead\n",
        "*   Numerical features: continuous variables that will be scaled during preprocessing\n",
        "*   Binary Categorical Features: Categorical features with only two distinct values. Will be binary encoded.\n",
        "\n"
      ]
    },
    {
      "cell_type": "code",
      "metadata": {
        "id": "kdPr3ZxBjj22"
      },
      "source": [
        "CATEGORICAL_FEATURES = ['Gender','Education_Level', 'Marital_Status', 'Income_Category', 'Card_Category']\n",
        "NUMERICAL_FEATURES = [col for col in df.columns if col not in CATEGORICAL_FEATURES]"
      ],
      "execution_count": 29,
      "outputs": []
    },
    {
      "cell_type": "markdown",
      "metadata": {
        "id": "erhlfTnRta6X"
      },
      "source": [
        "Preprocessing DataFrame using ColumnTransformer."
      ]
    },
    {
      "cell_type": "code",
      "metadata": {
        "id": "nK4Nb3T14Ws_"
      },
      "source": [
        "preprocessing_pipeline = ColumnTransformer(transformers=[\n",
        "    ('num', StandardScaler(), NUMERICAL_FEATURES),\n",
        "    ('cat', OneHotEncoder(sparse=False), CATEGORICAL_FEATURES)\n",
        "])\n",
        "\n",
        "df_new = pd.DataFrame(preprocessing_pipeline.fit_transform(df))"
      ],
      "execution_count": 30,
      "outputs": []
    },
    {
      "cell_type": "markdown",
      "metadata": {
        "id": "mlwst4Wdt5ax"
      },
      "source": [
        "This code section retrieves feature (column) names for our preprocessed DataFrame. This will be useful for plotting feature importance."
      ]
    },
    {
      "cell_type": "code",
      "metadata": {
        "id": "IhH10Gser4fT"
      },
      "source": [
        "l_transformers = list(preprocessing_pipeline._iter(fitted=True))\n",
        "column_names = []\n",
        "for name, trans, column, _ in l_transformers:\n",
        "  if hasattr(trans, 'get_feature_names'):\n",
        "    column_names.extend(trans.get_feature_names(column))\n",
        "  else:\n",
        "    column_names.extend(column)"
      ],
      "execution_count": 31,
      "outputs": []
    },
    {
      "cell_type": "code",
      "metadata": {
        "colab": {
          "base_uri": "https://localhost:8080/",
          "height": 224
        },
        "id": "3BXNkWf6tC3a",
        "outputId": "411736d2-79cf-45b3-f571-7ce9135d7e26"
      },
      "source": [
        "df_new.head()"
      ],
      "execution_count": 32,
      "outputs": [
        {
          "output_type": "execute_result",
          "data": {
            "text/html": [
              "<div>\n",
              "<style scoped>\n",
              "    .dataframe tbody tr th:only-of-type {\n",
              "        vertical-align: middle;\n",
              "    }\n",
              "\n",
              "    .dataframe tbody tr th {\n",
              "        vertical-align: top;\n",
              "    }\n",
              "\n",
              "    .dataframe thead th {\n",
              "        text-align: right;\n",
              "    }\n",
              "</style>\n",
              "<table border=\"1\" class=\"dataframe\">\n",
              "  <thead>\n",
              "    <tr style=\"text-align: right;\">\n",
              "      <th></th>\n",
              "      <th>0</th>\n",
              "      <th>1</th>\n",
              "      <th>2</th>\n",
              "      <th>3</th>\n",
              "      <th>4</th>\n",
              "      <th>5</th>\n",
              "      <th>6</th>\n",
              "      <th>7</th>\n",
              "      <th>8</th>\n",
              "      <th>9</th>\n",
              "      <th>10</th>\n",
              "      <th>11</th>\n",
              "      <th>12</th>\n",
              "      <th>13</th>\n",
              "      <th>14</th>\n",
              "      <th>15</th>\n",
              "      <th>16</th>\n",
              "      <th>17</th>\n",
              "      <th>18</th>\n",
              "      <th>19</th>\n",
              "      <th>20</th>\n",
              "      <th>21</th>\n",
              "      <th>22</th>\n",
              "      <th>23</th>\n",
              "      <th>24</th>\n",
              "      <th>25</th>\n",
              "      <th>26</th>\n",
              "      <th>27</th>\n",
              "      <th>28</th>\n",
              "      <th>29</th>\n",
              "      <th>30</th>\n",
              "      <th>31</th>\n",
              "      <th>32</th>\n",
              "      <th>33</th>\n",
              "      <th>34</th>\n",
              "      <th>35</th>\n",
              "      <th>36</th>\n",
              "    </tr>\n",
              "  </thead>\n",
              "  <tbody>\n",
              "    <tr>\n",
              "      <th>0</th>\n",
              "      <td>-0.165406</td>\n",
              "      <td>0.503368</td>\n",
              "      <td>0.384621</td>\n",
              "      <td>0.763943</td>\n",
              "      <td>-1.327136</td>\n",
              "      <td>0.492404</td>\n",
              "      <td>0.446622</td>\n",
              "      <td>-0.473422</td>\n",
              "      <td>0.488971</td>\n",
              "      <td>2.623494</td>\n",
              "      <td>-0.959707</td>\n",
              "      <td>-0.973895</td>\n",
              "      <td>3.834003</td>\n",
              "      <td>-0.775882</td>\n",
              "      <td>0.0</td>\n",
              "      <td>1.0</td>\n",
              "      <td>0.0</td>\n",
              "      <td>0.0</td>\n",
              "      <td>0.0</td>\n",
              "      <td>1.0</td>\n",
              "      <td>0.0</td>\n",
              "      <td>0.0</td>\n",
              "      <td>0.0</td>\n",
              "      <td>0.0</td>\n",
              "      <td>1.0</td>\n",
              "      <td>0.0</td>\n",
              "      <td>0.0</td>\n",
              "      <td>0.0</td>\n",
              "      <td>0.0</td>\n",
              "      <td>1.0</td>\n",
              "      <td>0.0</td>\n",
              "      <td>0.0</td>\n",
              "      <td>0.0</td>\n",
              "      <td>1.0</td>\n",
              "      <td>0.0</td>\n",
              "      <td>0.0</td>\n",
              "      <td>0.0</td>\n",
              "    </tr>\n",
              "    <tr>\n",
              "      <th>1</th>\n",
              "      <td>0.333570</td>\n",
              "      <td>2.043199</td>\n",
              "      <td>1.010715</td>\n",
              "      <td>1.407306</td>\n",
              "      <td>-1.327136</td>\n",
              "      <td>-0.411616</td>\n",
              "      <td>-0.041367</td>\n",
              "      <td>-0.366667</td>\n",
              "      <td>-0.008486</td>\n",
              "      <td>3.563293</td>\n",
              "      <td>-0.916433</td>\n",
              "      <td>-1.357340</td>\n",
              "      <td>12.608573</td>\n",
              "      <td>-0.616276</td>\n",
              "      <td>1.0</td>\n",
              "      <td>0.0</td>\n",
              "      <td>0.0</td>\n",
              "      <td>0.0</td>\n",
              "      <td>1.0</td>\n",
              "      <td>0.0</td>\n",
              "      <td>0.0</td>\n",
              "      <td>0.0</td>\n",
              "      <td>0.0</td>\n",
              "      <td>0.0</td>\n",
              "      <td>0.0</td>\n",
              "      <td>1.0</td>\n",
              "      <td>0.0</td>\n",
              "      <td>0.0</td>\n",
              "      <td>0.0</td>\n",
              "      <td>0.0</td>\n",
              "      <td>0.0</td>\n",
              "      <td>1.0</td>\n",
              "      <td>0.0</td>\n",
              "      <td>1.0</td>\n",
              "      <td>0.0</td>\n",
              "      <td>0.0</td>\n",
              "      <td>0.0</td>\n",
              "    </tr>\n",
              "    <tr>\n",
              "      <th>2</th>\n",
              "      <td>0.583058</td>\n",
              "      <td>0.503368</td>\n",
              "      <td>0.008965</td>\n",
              "      <td>0.120579</td>\n",
              "      <td>-1.327136</td>\n",
              "      <td>-2.219655</td>\n",
              "      <td>-0.573698</td>\n",
              "      <td>-1.426858</td>\n",
              "      <td>-0.445658</td>\n",
              "      <td>8.367214</td>\n",
              "      <td>-0.740982</td>\n",
              "      <td>-1.911206</td>\n",
              "      <td>6.807864</td>\n",
              "      <td>-0.997155</td>\n",
              "      <td>0.0</td>\n",
              "      <td>1.0</td>\n",
              "      <td>0.0</td>\n",
              "      <td>0.0</td>\n",
              "      <td>1.0</td>\n",
              "      <td>0.0</td>\n",
              "      <td>0.0</td>\n",
              "      <td>0.0</td>\n",
              "      <td>0.0</td>\n",
              "      <td>0.0</td>\n",
              "      <td>1.0</td>\n",
              "      <td>0.0</td>\n",
              "      <td>0.0</td>\n",
              "      <td>0.0</td>\n",
              "      <td>0.0</td>\n",
              "      <td>0.0</td>\n",
              "      <td>1.0</td>\n",
              "      <td>0.0</td>\n",
              "      <td>0.0</td>\n",
              "      <td>1.0</td>\n",
              "      <td>0.0</td>\n",
              "      <td>0.0</td>\n",
              "      <td>0.0</td>\n",
              "    </tr>\n",
              "    <tr>\n",
              "      <th>3</th>\n",
              "      <td>-0.789126</td>\n",
              "      <td>1.273283</td>\n",
              "      <td>-0.241473</td>\n",
              "      <td>-0.522785</td>\n",
              "      <td>1.641478</td>\n",
              "      <td>-1.315636</td>\n",
              "      <td>-0.585251</td>\n",
              "      <td>1.661686</td>\n",
              "      <td>-0.734100</td>\n",
              "      <td>2.942843</td>\n",
              "      <td>-0.951758</td>\n",
              "      <td>-1.911206</td>\n",
              "      <td>6.807864</td>\n",
              "      <td>1.759686</td>\n",
              "      <td>1.0</td>\n",
              "      <td>0.0</td>\n",
              "      <td>0.0</td>\n",
              "      <td>0.0</td>\n",
              "      <td>0.0</td>\n",
              "      <td>1.0</td>\n",
              "      <td>0.0</td>\n",
              "      <td>0.0</td>\n",
              "      <td>0.0</td>\n",
              "      <td>0.0</td>\n",
              "      <td>0.0</td>\n",
              "      <td>0.0</td>\n",
              "      <td>1.0</td>\n",
              "      <td>0.0</td>\n",
              "      <td>0.0</td>\n",
              "      <td>0.0</td>\n",
              "      <td>0.0</td>\n",
              "      <td>1.0</td>\n",
              "      <td>0.0</td>\n",
              "      <td>1.0</td>\n",
              "      <td>0.0</td>\n",
              "      <td>0.0</td>\n",
              "      <td>0.0</td>\n",
              "    </tr>\n",
              "    <tr>\n",
              "      <th>4</th>\n",
              "      <td>-0.789126</td>\n",
              "      <td>0.503368</td>\n",
              "      <td>-1.869317</td>\n",
              "      <td>0.763943</td>\n",
              "      <td>-1.327136</td>\n",
              "      <td>-2.219655</td>\n",
              "      <td>-0.430877</td>\n",
              "      <td>-1.426858</td>\n",
              "      <td>-0.302868</td>\n",
              "      <td>6.455682</td>\n",
              "      <td>-1.056263</td>\n",
              "      <td>-1.570365</td>\n",
              "      <td>7.509325</td>\n",
              "      <td>-0.997155</td>\n",
              "      <td>0.0</td>\n",
              "      <td>1.0</td>\n",
              "      <td>0.0</td>\n",
              "      <td>0.0</td>\n",
              "      <td>0.0</td>\n",
              "      <td>0.0</td>\n",
              "      <td>0.0</td>\n",
              "      <td>1.0</td>\n",
              "      <td>0.0</td>\n",
              "      <td>0.0</td>\n",
              "      <td>1.0</td>\n",
              "      <td>0.0</td>\n",
              "      <td>0.0</td>\n",
              "      <td>0.0</td>\n",
              "      <td>0.0</td>\n",
              "      <td>1.0</td>\n",
              "      <td>0.0</td>\n",
              "      <td>0.0</td>\n",
              "      <td>0.0</td>\n",
              "      <td>1.0</td>\n",
              "      <td>0.0</td>\n",
              "      <td>0.0</td>\n",
              "      <td>0.0</td>\n",
              "    </tr>\n",
              "  </tbody>\n",
              "</table>\n",
              "</div>"
            ],
            "text/plain": [
              "         0         1         2         3         4   ...   32   33   34   35   36\n",
              "0 -0.165406  0.503368  0.384621  0.763943 -1.327136  ...  0.0  1.0  0.0  0.0  0.0\n",
              "1  0.333570  2.043199  1.010715  1.407306 -1.327136  ...  0.0  1.0  0.0  0.0  0.0\n",
              "2  0.583058  0.503368  0.008965  0.120579 -1.327136  ...  0.0  1.0  0.0  0.0  0.0\n",
              "3 -0.789126  1.273283 -0.241473 -0.522785  1.641478  ...  0.0  1.0  0.0  0.0  0.0\n",
              "4 -0.789126  0.503368 -1.869317  0.763943 -1.327136  ...  0.0  1.0  0.0  0.0  0.0\n",
              "\n",
              "[5 rows x 37 columns]"
            ]
          },
          "metadata": {},
          "execution_count": 32
        }
      ]
    },
    {
      "cell_type": "markdown",
      "metadata": {
        "id": "tXPOYUJNuPOH"
      },
      "source": [
        "Standard Train-Test split."
      ]
    },
    {
      "cell_type": "code",
      "metadata": {
        "id": "0s-3MQVkFi1K"
      },
      "source": [
        "X_train, X_test, y_train, y_test = train_test_split(df_new, y, test_size=0.3, random_state=11)"
      ],
      "execution_count": 33,
      "outputs": []
    },
    {
      "cell_type": "markdown",
      "metadata": {
        "id": "o5YH1GMavCmF"
      },
      "source": [
        "### Model Training and Tuning\n",
        "\n",
        "We are using a combination of minority over-sampling (BorderlineSMOTE) and majority random under-sampling to tackle the target class imbalance.\n",
        "\n",
        "Model architecture: LightGBM\n",
        "\n",
        "First step is a 5-fold randomized hyper-parmater search for the LGBM paramaters. We fix learning rate (0.03) and n_estimators (100).\n",
        "\n",
        "F1 Scoring is used based on target class balance and business problem."
      ]
    },
    {
      "cell_type": "code",
      "metadata": {
        "id": "5yiTNG73F4uv",
        "colab": {
          "base_uri": "https://localhost:8080/"
        },
        "outputId": "12efa3af-4ac2-4656-fa83-c27e06b1868c"
      },
      "source": [
        "sm = BorderlineSMOTE(sampling_strategy=0.3)\n",
        "rus = RandomUnderSampler(sampling_strategy=0.6)\n",
        "\n",
        "lgb = LGBMClassifier(objective = 'binary')\n",
        "train_pipeline = pipe_imb([('sm', sm), ('rus', rus), ('clf', lgb)])\n",
        "param_dist = {'clf__n_estimators': [100],\n",
        "              'clf__learning_rate': [0.03],\n",
        "              'clf__subsample': [i/10.0 for i in range(6,10)],\n",
        "              'clf__max_depth': [3, 4, 5, 6],\n",
        "              'clf__colsample_bytree': [i/10.0 for i in range(6,10)],\n",
        "              'clf__min_child_weight': range(1,6,2)\n",
        "             }\n",
        "\n",
        "clf = RandomizedSearchCV(train_pipeline, \n",
        "                         param_distributions = param_dist,\n",
        "                         cv = 5,  \n",
        "                         n_iter = 20,  \n",
        "                         scoring = 'f1', \n",
        "                         error_score = 0, \n",
        "                         verbose = 3, \n",
        "                         n_jobs = -1)\n",
        "\n",
        "clf.fit(X_train.values, y_train)"
      ],
      "execution_count": 34,
      "outputs": [
        {
          "output_type": "stream",
          "name": "stdout",
          "text": [
            "Fitting 5 folds for each of 20 candidates, totalling 100 fits\n"
          ]
        },
        {
          "output_type": "stream",
          "name": "stderr",
          "text": [
            "[Parallel(n_jobs=-1)]: Using backend LokyBackend with 2 concurrent workers.\n",
            "[Parallel(n_jobs=-1)]: Done  28 tasks      | elapsed:   13.6s\n",
            "[Parallel(n_jobs=-1)]: Done 100 out of 100 | elapsed:   48.6s finished\n"
          ]
        },
        {
          "output_type": "execute_result",
          "data": {
            "text/plain": [
              "RandomizedSearchCV(cv=5, error_score=0,\n",
              "                   estimator=Pipeline(memory=None,\n",
              "                                      steps=[('sm',\n",
              "                                              BorderlineSMOTE(k_neighbors=5,\n",
              "                                                              kind='borderline-1',\n",
              "                                                              m_neighbors=10,\n",
              "                                                              n_jobs=1,\n",
              "                                                              random_state=None,\n",
              "                                                              sampling_strategy=0.3)),\n",
              "                                             ('rus',\n",
              "                                              RandomUnderSampler(random_state=None,\n",
              "                                                                 ratio=None,\n",
              "                                                                 replacement=False,\n",
              "                                                                 return_indices=False,\n",
              "                                                                 sampling_strategy=0.6)),\n",
              "                                             ('clf',\n",
              "                                              LGBMClassifier(boosting_typ...\n",
              "                   iid='deprecated', n_iter=20, n_jobs=-1,\n",
              "                   param_distributions={'clf__colsample_bytree': [0.6, 0.7, 0.8,\n",
              "                                                                  0.9],\n",
              "                                        'clf__learning_rate': [0.03],\n",
              "                                        'clf__max_depth': [3, 4, 5, 6],\n",
              "                                        'clf__min_child_weight': range(1, 6, 2),\n",
              "                                        'clf__n_estimators': [100],\n",
              "                                        'clf__subsample': [0.6, 0.7, 0.8, 0.9]},\n",
              "                   pre_dispatch='2*n_jobs', random_state=None, refit=True,\n",
              "                   return_train_score=False, scoring='f1', verbose=3)"
            ]
          },
          "metadata": {},
          "execution_count": 34
        }
      ]
    },
    {
      "cell_type": "code",
      "metadata": {
        "colab": {
          "base_uri": "https://localhost:8080/"
        },
        "id": "J1P024W9E6AJ",
        "outputId": "fb5d6718-30cf-4174-daec-9c82689502c4"
      },
      "source": [
        "clf.best_score_, clf.best_params_"
      ],
      "execution_count": 35,
      "outputs": [
        {
          "output_type": "execute_result",
          "data": {
            "text/plain": [
              "(0.8591217931344692,\n",
              " {'clf__colsample_bytree': 0.7,\n",
              "  'clf__learning_rate': 0.03,\n",
              "  'clf__max_depth': 6,\n",
              "  'clf__min_child_weight': 5,\n",
              "  'clf__n_estimators': 100,\n",
              "  'clf__subsample': 0.8})"
            ]
          },
          "metadata": {},
          "execution_count": 35
        }
      ]
    },
    {
      "cell_type": "markdown",
      "metadata": {
        "id": "WX_DPFGWwWkN"
      },
      "source": [
        "Custom evaluation metric for use in the next section."
      ]
    },
    {
      "cell_type": "code",
      "metadata": {
        "id": "nxGpf9a597TR"
      },
      "source": [
        "def lgb_f1_score(y_hat, data):\n",
        "    y_true = np.where(data > 0.5, 1, 0)\n",
        "    return 'f1', f1_score(y_true, y_hat), True"
      ],
      "execution_count": 36,
      "outputs": []
    },
    {
      "cell_type": "markdown",
      "metadata": {
        "id": "iMiJnaC0wcVx"
      },
      "source": [
        "Using the best parameters from the random search, we increase n_estimators and use the LGBM early stopping implementation to optimise this parameter.\n",
        "\n",
        "5-fold stratified CV is used with our custom f1 eval metric defined above."
      ]
    },
    {
      "cell_type": "code",
      "metadata": {
        "colab": {
          "base_uri": "https://localhost:8080/"
        },
        "id": "cdVCIzyYHTvb",
        "outputId": "8e86fa21-98f7-4666-9c41-25823c6b3382"
      },
      "source": [
        "lgbm =  clf.best_estimator_.steps[-1][-1]\n",
        "params = {'learning_rate':0.03, 'n_estimators':5000}\n",
        "lgbm.set_params(**params)\n",
        "train_pipeline_es = pipe_imb([('sm', sm), ('rus', rus), ('clf', lgbm)])\n",
        "\n",
        "kf= StratifiedKFold(shuffle = True)\n",
        "\n",
        "stopping_rounds = []\n",
        "\n",
        "for train_index, test_index in kf.split(X_train, y_train):\n",
        "  X_train2, X_val = X_train.values[train_index], X_train.values[test_index]\n",
        "  y_train2, y_val = y_train[train_index], y_train[test_index]\n",
        "\n",
        "  fit_params={\"clf__early_stopping_rounds\":50, \n",
        "            \"clf__eval_metric\" : lgb_f1_score, \n",
        "            \"clf__eval_set\" : [[X_val, y_val]],\n",
        "            \"clf__verbose\": 25}\n",
        "\n",
        "\n",
        "  train_pipeline_es.fit(X_train2, y_train2, **fit_params)\n",
        "\n",
        "  stopping_rounds.append(train_pipeline_es.steps[-1][-1].booster_.best_iteration)\n"
      ],
      "execution_count": 37,
      "outputs": [
        {
          "output_type": "stream",
          "name": "stderr",
          "text": [
            "/usr/local/lib/python3.7/dist-packages/lightgbm/sklearn.py:726: UserWarning: 'early_stopping_rounds' argument is deprecated and will be removed in a future release of LightGBM. Pass 'early_stopping()' callback via 'callbacks' argument instead.\n",
            "  _log_warning(\"'early_stopping_rounds' argument is deprecated and will be removed in a future release of LightGBM. \"\n",
            "/usr/local/lib/python3.7/dist-packages/lightgbm/sklearn.py:736: UserWarning: 'verbose' argument is deprecated and will be removed in a future release of LightGBM. Pass 'log_evaluation()' callback via 'callbacks' argument instead.\n",
            "  _log_warning(\"'verbose' argument is deprecated and will be removed in a future release of LightGBM. \"\n"
          ]
        },
        {
          "output_type": "stream",
          "name": "stdout",
          "text": [
            "[25]\tvalid_0's binary_logloss: 0.319662\tvalid_0's f1: 0.816327\n",
            "[50]\tvalid_0's binary_logloss: 0.229022\tvalid_0's f1: 0.844639\n",
            "[75]\tvalid_0's binary_logloss: 0.178622\tvalid_0's f1: 0.847826\n",
            "[100]\tvalid_0's binary_logloss: 0.152138\tvalid_0's f1: 0.852814\n",
            "[125]\tvalid_0's binary_logloss: 0.13647\tvalid_0's f1: 0.852814\n",
            "[150]\tvalid_0's binary_logloss: 0.127085\tvalid_0's f1: 0.852814\n"
          ]
        },
        {
          "output_type": "stream",
          "name": "stderr",
          "text": [
            "/usr/local/lib/python3.7/dist-packages/lightgbm/sklearn.py:726: UserWarning: 'early_stopping_rounds' argument is deprecated and will be removed in a future release of LightGBM. Pass 'early_stopping()' callback via 'callbacks' argument instead.\n",
            "  _log_warning(\"'early_stopping_rounds' argument is deprecated and will be removed in a future release of LightGBM. \"\n",
            "/usr/local/lib/python3.7/dist-packages/lightgbm/sklearn.py:736: UserWarning: 'verbose' argument is deprecated and will be removed in a future release of LightGBM. Pass 'log_evaluation()' callback via 'callbacks' argument instead.\n",
            "  _log_warning(\"'verbose' argument is deprecated and will be removed in a future release of LightGBM. \"\n"
          ]
        },
        {
          "output_type": "stream",
          "name": "stdout",
          "text": [
            "[25]\tvalid_0's binary_logloss: 0.315171\tvalid_0's f1: 0.853392\n",
            "[50]\tvalid_0's binary_logloss: 0.222434\tvalid_0's f1: 0.861996\n",
            "[75]\tvalid_0's binary_logloss: 0.17223\tvalid_0's f1: 0.870488\n",
            "[100]\tvalid_0's binary_logloss: 0.14407\tvalid_0's f1: 0.881356\n",
            "[125]\tvalid_0's binary_logloss: 0.127119\tvalid_0's f1: 0.883227\n",
            "[150]\tvalid_0's binary_logloss: 0.116478\tvalid_0's f1: 0.89172\n",
            "[175]\tvalid_0's binary_logloss: 0.107991\tvalid_0's f1: 0.893162\n",
            "[200]\tvalid_0's binary_logloss: 0.10173\tvalid_0's f1: 0.895075\n"
          ]
        },
        {
          "output_type": "stream",
          "name": "stderr",
          "text": [
            "/usr/local/lib/python3.7/dist-packages/lightgbm/sklearn.py:726: UserWarning: 'early_stopping_rounds' argument is deprecated and will be removed in a future release of LightGBM. Pass 'early_stopping()' callback via 'callbacks' argument instead.\n",
            "  _log_warning(\"'early_stopping_rounds' argument is deprecated and will be removed in a future release of LightGBM. \"\n",
            "/usr/local/lib/python3.7/dist-packages/lightgbm/sklearn.py:736: UserWarning: 'verbose' argument is deprecated and will be removed in a future release of LightGBM. Pass 'log_evaluation()' callback via 'callbacks' argument instead.\n",
            "  _log_warning(\"'verbose' argument is deprecated and will be removed in a future release of LightGBM. \"\n"
          ]
        },
        {
          "output_type": "stream",
          "name": "stdout",
          "text": [
            "[25]\tvalid_0's binary_logloss: 0.316873\tvalid_0's f1: 0.823266\n",
            "[50]\tvalid_0's binary_logloss: 0.224442\tvalid_0's f1: 0.845494\n",
            "[75]\tvalid_0's binary_logloss: 0.17669\tvalid_0's f1: 0.84188\n",
            "[100]\tvalid_0's binary_logloss: 0.152632\tvalid_0's f1: 0.849785\n"
          ]
        },
        {
          "output_type": "stream",
          "name": "stderr",
          "text": [
            "/usr/local/lib/python3.7/dist-packages/lightgbm/sklearn.py:726: UserWarning: 'early_stopping_rounds' argument is deprecated and will be removed in a future release of LightGBM. Pass 'early_stopping()' callback via 'callbacks' argument instead.\n",
            "  _log_warning(\"'early_stopping_rounds' argument is deprecated and will be removed in a future release of LightGBM. \"\n",
            "/usr/local/lib/python3.7/dist-packages/lightgbm/sklearn.py:736: UserWarning: 'verbose' argument is deprecated and will be removed in a future release of LightGBM. Pass 'log_evaluation()' callback via 'callbacks' argument instead.\n",
            "  _log_warning(\"'verbose' argument is deprecated and will be removed in a future release of LightGBM. \"\n"
          ]
        },
        {
          "output_type": "stream",
          "name": "stdout",
          "text": [
            "[25]\tvalid_0's binary_logloss: 0.322636\tvalid_0's f1: 0.826966\n",
            "[50]\tvalid_0's binary_logloss: 0.232218\tvalid_0's f1: 0.843478\n",
            "[75]\tvalid_0's binary_logloss: 0.181784\tvalid_0's f1: 0.856531\n",
            "[100]\tvalid_0's binary_logloss: 0.153947\tvalid_0's f1: 0.854123\n",
            "[125]\tvalid_0's binary_logloss: 0.138715\tvalid_0's f1: 0.854123\n",
            "[150]\tvalid_0's binary_logloss: 0.127594\tvalid_0's f1: 0.862579\n",
            "[175]\tvalid_0's binary_logloss: 0.119807\tvalid_0's f1: 0.860759\n"
          ]
        },
        {
          "output_type": "stream",
          "name": "stderr",
          "text": [
            "/usr/local/lib/python3.7/dist-packages/lightgbm/sklearn.py:726: UserWarning: 'early_stopping_rounds' argument is deprecated and will be removed in a future release of LightGBM. Pass 'early_stopping()' callback via 'callbacks' argument instead.\n",
            "  _log_warning(\"'early_stopping_rounds' argument is deprecated and will be removed in a future release of LightGBM. \"\n",
            "/usr/local/lib/python3.7/dist-packages/lightgbm/sklearn.py:736: UserWarning: 'verbose' argument is deprecated and will be removed in a future release of LightGBM. Pass 'log_evaluation()' callback via 'callbacks' argument instead.\n",
            "  _log_warning(\"'verbose' argument is deprecated and will be removed in a future release of LightGBM. \"\n"
          ]
        },
        {
          "output_type": "stream",
          "name": "stdout",
          "text": [
            "[25]\tvalid_0's binary_logloss: 0.323606\tvalid_0's f1: 0.824295\n",
            "[50]\tvalid_0's binary_logloss: 0.23406\tvalid_0's f1: 0.829876\n",
            "[75]\tvalid_0's binary_logloss: 0.183544\tvalid_0's f1: 0.837113\n",
            "[100]\tvalid_0's binary_logloss: 0.156146\tvalid_0's f1: 0.854167\n",
            "[125]\tvalid_0's binary_logloss: 0.140018\tvalid_0's f1: 0.863158\n",
            "[150]\tvalid_0's binary_logloss: 0.130003\tvalid_0's f1: 0.864407\n",
            "[175]\tvalid_0's binary_logloss: 0.12382\tvalid_0's f1: 0.870488\n",
            "[200]\tvalid_0's binary_logloss: 0.1185\tvalid_0's f1: 0.871036\n",
            "[225]\tvalid_0's binary_logloss: 0.113764\tvalid_0's f1: 0.881356\n",
            "[250]\tvalid_0's binary_logloss: 0.109232\tvalid_0's f1: 0.881857\n",
            "[275]\tvalid_0's binary_logloss: 0.105959\tvalid_0's f1: 0.885593\n",
            "[300]\tvalid_0's binary_logloss: 0.103943\tvalid_0's f1: 0.883721\n"
          ]
        }
      ]
    },
    {
      "cell_type": "markdown",
      "metadata": {
        "id": "C-_1jhERxpJk"
      },
      "source": [
        "Re-fit on all training data using best parameters."
      ]
    },
    {
      "cell_type": "code",
      "metadata": {
        "colab": {
          "base_uri": "https://localhost:8080/"
        },
        "id": "FmXLhO2o7K6a",
        "outputId": "cd7dadda-f94c-4c4b-b4db-32df888264e1"
      },
      "source": [
        "best_estimators = int(np.ceil(np.mean(stopping_rounds)))\n",
        "\n",
        "lgbm_final =  lgbm\n",
        "params_final = {'learning_rate':0.03, 'n_estimators':best_estimators}\n",
        "lgbm_final.set_params(**params_final)\n",
        "train_pipeline_final = pipe_imb([('sm', sm), ('rus', rus), ('clf', lgbm_final)])\n",
        "\n",
        "train_pipeline_final.fit(X_train.values, y_train)"
      ],
      "execution_count": 38,
      "outputs": [
        {
          "output_type": "execute_result",
          "data": {
            "text/plain": [
              "Pipeline(memory=None,\n",
              "         steps=[('sm',\n",
              "                 BorderlineSMOTE(k_neighbors=5, kind='borderline-1',\n",
              "                                 m_neighbors=10, n_jobs=1, random_state=None,\n",
              "                                 sampling_strategy=0.3)),\n",
              "                ('rus',\n",
              "                 RandomUnderSampler(random_state=None, ratio=None,\n",
              "                                    replacement=False, return_indices=False,\n",
              "                                    sampling_strategy=0.6)),\n",
              "                ('clf',\n",
              "                 LGBMClassifier(boosting_type='gbdt', class_weight=None,\n",
              "                                colsample_bytree=0.7, importance_type='split',\n",
              "                                learning_rate=0.03, max_depth=6,\n",
              "                                min_child_samples=20, min_child_weight=5,\n",
              "                                min_split_gain=0.0, n_estimators=148, n_jobs=-1,\n",
              "                                num_leaves=31, objective='binary',\n",
              "                                random_state=None, reg_alpha=0.0,\n",
              "                                reg_lambda=0.0, silent='warn', subsample=0.8,\n",
              "                                subsample_for_bin=200000, subsample_freq=0))],\n",
              "         verbose=False)"
            ]
          },
          "metadata": {},
          "execution_count": 38
        }
      ]
    },
    {
      "cell_type": "markdown",
      "metadata": {
        "id": "vSNBCOSdxvZW"
      },
      "source": [
        "Predict on test set. Note that imblearn's pipeline implementation will only use sampling methods on fit and not predict.\n",
        "\n",
        "Print precision, recall, f1 and accuracy."
      ]
    },
    {
      "cell_type": "code",
      "metadata": {
        "colab": {
          "base_uri": "https://localhost:8080/"
        },
        "id": "3CjLGYsq8fk7",
        "outputId": "8b6eb979-459e-48f1-fbce-6b5f35f5e581"
      },
      "source": [
        "preds = train_pipeline_final.predict(X_test.values)\n",
        "\n",
        "print('Precision: {}'.format(precision_score(y_test, preds)))\n",
        "print('Recall: {}'.format(recall_score(y_test, preds)))\n",
        "print('F1: {}'.format(f1_score(y_test, preds)))\n",
        "print('Accuracy: {}'.format(accuracy_score(y_test, preds)))"
      ],
      "execution_count": 39,
      "outputs": [
        {
          "output_type": "stream",
          "name": "stdout",
          "text": [
            "Precision: 0.8777372262773723\n",
            "Recall: 0.9339805825242719\n",
            "F1: 0.9049858889934149\n",
            "Accuracy: 0.9667653833497861\n"
          ]
        }
      ]
    },
    {
      "cell_type": "markdown",
      "metadata": {
        "id": "O7uLfePZyeju"
      },
      "source": [
        "Confusion Matrix using predictions.\n",
        "\n",
        "\n",
        "\n",
        "*   False Negative: These are want we want to avoid as it results in a missed customer that churns.\n",
        "*   False Positive: Incorrectly predicting a churn. The implications of this depend on the business strategy (e.g. what is the cost of attempting to prevent a churn?).\n",
        "\n"
      ]
    },
    {
      "cell_type": "code",
      "metadata": {
        "colab": {
          "base_uri": "https://localhost:8080/",
          "height": 296
        },
        "id": "d482crO-U9fX",
        "outputId": "b47b1dc3-3779-4d72-e5f1-b00c5982ba34"
      },
      "source": [
        "plot_confusion_matrix(train_pipeline_final, X_test.values, y_test)"
      ],
      "execution_count": 40,
      "outputs": [
        {
          "output_type": "execute_result",
          "data": {
            "text/plain": [
              "<sklearn.metrics._plot.confusion_matrix.ConfusionMatrixDisplay at 0x7f4a313f39d0>"
            ]
          },
          "metadata": {},
          "execution_count": 40
        },
        {
          "output_type": "display_data",
          "data": {
            "image/png": "[encoded data removed]",
            "text/plain": [
              "<Figure size 432x288 with 2 Axes>"
            ]
          },
          "metadata": {
            "needs_background": "light"
          }
        }
      ]
    },
    {
      "cell_type": "markdown",
      "metadata": {
        "id": "htbOAAs0zcH2"
      },
      "source": [
        "Plot feature importances using column names extracted earlier."
      ]
    },
    {
      "cell_type": "code",
      "metadata": {
        "id": "BPs7fGAoXeQP"
      },
      "source": [
        "feat_imp = train_pipeline_final.steps[-1][-1].booster_.feature_importance()\n",
        "feat_imp_mapped = dict(zip(column_names, feat_imp))"
      ],
      "execution_count": 41,
      "outputs": []
    },
    {
      "cell_type": "code",
      "metadata": {
        "colab": {
          "base_uri": "https://localhost:8080/",
          "height": 537
        },
        "id": "63xe1wITdEP8",
        "outputId": "1d36ba06-0391-4d38-c154-776444e53777"
      },
      "source": [
        "feat_imp_mapped = sorted(feat_imp_mapped.items(), key=lambda x:x[1])\n",
        "plt.figure(figsize=(12,9))\n",
        "plt.barh(range(len(feat_imp_mapped)), [x[1] for x in feat_imp_mapped], align='center')\n",
        "plt.yticks(range(len(feat_imp_mapped)), [x[0] for x in feat_imp_mapped])\n",
        "plt.yticks(rotation=0)\n",
        "plt.show()"
      ],
      "execution_count": 42,
      "outputs": [
        {
          "output_type": "display_data",
          "data": {
            "image/png": "[encoded data removed]",
            "text/plain": [
              "<Figure size 864x648 with 1 Axes>"
            ]
          },
          "metadata": {
            "needs_background": "light"
          }
        }
      ]
    },
    {
      "cell_type": "markdown",
      "metadata": {
        "id": "ggAlqopCzh_C"
      },
      "source": [
        "Save trained model and preprocessing pipeline for online inference."
      ]
    },
    {
      "cell_type": "code",
      "metadata": {
        "colab": {
          "base_uri": "https://localhost:8080/"
        },
        "id": "pweT93Tqad6m",
        "outputId": "d90ba285-2365-4753-b382-83c488f41d79"
      },
      "source": [
        "final_model = train_pipeline_final.steps[-1][-1]\n",
        "\n",
        "final_pipeline = Pipeline([('preprocess', preprocessing_pipeline), ('model', final_model)])\n",
        "\n",
        "joblib.dump(final_pipeline, 'drive/MyDrive/churn_pipeline.pkl')\n"
      ],
      "execution_count": 43,
      "outputs": [
        {
          "output_type": "execute_result",
          "data": {
            "text/plain": [
              "['drive/MyDrive/churn_pipeline.pkl']"
            ]
          },
          "metadata": {},
          "execution_count": 43
        }
      ]
    },
    {
      "cell_type": "code",
      "metadata": {
        "id": "cJC3jgNQolDX"
      },
      "source": [
        ""
      ],
      "execution_count": null,
      "outputs": []
    }
  ]
}